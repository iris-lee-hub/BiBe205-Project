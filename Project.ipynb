{
 "cells": [
  {
   "cell_type": "code",
   "execution_count": 1,
   "metadata": {},
   "outputs": [],
   "source": [
    "import numpy as np\n",
    "import pandas as pd\n",
    "from tdc.multi_pred import MTI\n",
    "import torch\n",
    "import torch.nn as nn\n",
    "import torch.optim as optim\n",
    "import BinaryClassifier\n",
    "import torchtext\n",
    "from transformers import BertTokenizer"
   ]
  },
  {
   "cell_type": "code",
   "execution_count": 2,
   "metadata": {},
   "outputs": [
    {
     "name": "stderr",
     "output_type": "stream",
     "text": [
      "Found local copy...\n",
      "Loading...\n",
      "Done!\n"
     ]
    }
   ],
   "source": [
    "data = MTI(name = 'miRTarBase')\n",
    "neg_data = data.neg_sample()\n",
    "neg_data = neg_data.get_data()"
   ]
  },
  {
   "attachments": {},
   "cell_type": "markdown",
   "metadata": {},
   "source": [
    "Only using about 1/4 the data because I can't run the server on my laptop and it's very slow with  all the data."
   ]
  },
  {
   "cell_type": "code",
   "execution_count": 3,
   "metadata": {},
   "outputs": [],
   "source": [
    "neg_data = neg_data[:round(len(neg_data)/4)]"
   ]
  },
  {
   "attachments": {},
   "cell_type": "markdown",
   "metadata": {},
   "source": [
    "Using the Tokenizer takes a long time but the benefit is that it automatically helps us do padding and gives us an attention mask."
   ]
  },
  {
   "cell_type": "code",
   "execution_count": 4,
   "metadata": {},
   "outputs": [],
   "source": [
    "tokenizer = BertTokenizer.from_pretrained(\"Rostlab/prot_bert\", do_lower_case = False)"
   ]
  },
  {
   "cell_type": "code",
   "execution_count": 31,
   "metadata": {},
   "outputs": [],
   "source": [
    "mirna = [' '.join(mirna) for mirna in neg_data.miRNA.values]\n",
    "targets = [' '.join(targets) for targets in neg_data.Target.values]"
   ]
  },
  {
   "cell_type": "code",
   "execution_count": 6,
   "metadata": {},
   "outputs": [
    {
     "data": {
      "text/plain": [
       "0           UGUGUUCUCAGGUCACCCCUG\n",
       "1           UGUGUUCUCAGGUCACCCCUG\n",
       "2           UGUGUUCUCAGGUCACCCCUG\n",
       "3           UGUGUUCUCAGGUCACCCCUG\n",
       "4           UGUGUUCUCAGGUCACCCCUU\n",
       "                   ...           \n",
       "200036     AACACACCUAUUCAAGGAUUCA\n",
       "200037     AACACACCUGGUUAACCUCUUU\n",
       "200038      CACACACACACACACACGUAU\n",
       "200039    UUUGGGAUUGACGCCACAUGUCU\n",
       "200040      CUUGGGAGCCCUGUUAGACUC\n",
       "Name: miRNA, Length: 200041, dtype: object"
      ]
     },
     "execution_count": 6,
     "metadata": {},
     "output_type": "execute_result"
    }
   ],
   "source": [
    "neg_data.miRNA"
   ]
  },
  {
   "cell_type": "code",
   "execution_count": 9,
   "metadata": {},
   "outputs": [
    {
     "data": {
      "text/plain": [
       "{'input_ids': [2, 26, 7, 26, 7, 26, 26, 23, 26, 23, 6, 7, 7, 26, 23, 6, 23, 23, 23, 23, 26, 7, 3], 'token_type_ids': [0, 0, 0, 0, 0, 0, 0, 0, 0, 0, 0, 0, 0, 0, 0, 0, 0, 0, 0, 0, 0, 0, 0], 'attention_mask': [1, 1, 1, 1, 1, 1, 1, 1, 1, 1, 1, 1, 1, 1, 1, 1, 1, 1, 1, 1, 1, 1, 1]}"
      ]
     },
     "execution_count": 9,
     "metadata": {},
     "output_type": "execute_result"
    }
   ],
   "source": [
    "string = 'UGUGUUCUCAGGUCACCCCUG'\n",
    "string = ' '.join(string)\n",
    "tokenizer(string, padding = True)\n",
    "#tokenized_targets = tokenizer(targets, padding = True)"
   ]
  },
  {
   "cell_type": "code",
   "execution_count": 216,
   "metadata": {},
   "outputs": [],
   "source": [
    "for dataset in ['test', 'valid', 'train']:\n",
    "\n",
    "    neg_data_split[dataset]['miRNA_ord'] = neg_data_split[dataset].apply(lambda x: (transformer(x[\"miRNA\"])), axis = 1)\n",
    "    neg_data_split[dataset]['Target_ord'] = neg_data_split[dataset].apply(lambda x: (transformer(x[\"Target\"])), axis = 1)"
   ]
  },
  {
   "attachments": {},
   "cell_type": "markdown",
   "metadata": {},
   "source": [
    "Defining training, validation, and test sets"
   ]
  },
  {
   "cell_type": "code",
   "execution_count": 217,
   "metadata": {},
   "outputs": [],
   "source": [
    "x_train, y_train = neg_data_split['train'].loc[:, ['miRNA_ord','Target_ord']], neg_data_split['train'].loc[:, 'Y']\n",
    "x_valid, y_valid = neg_data_split['valid'].loc[:, ['miRNA_ord','Target_ord']], neg_data_split['valid'].loc[:, 'Y']\n",
    "x_test, y_test = neg_data_split['test'].loc[:, ['miRNA_ord','Target_ord']], neg_data_split['test'].loc[:, 'Y']"
   ]
  },
  {
   "cell_type": "code",
   "execution_count": 246,
   "metadata": {},
   "outputs": [
    {
     "data": {
      "text/plain": [
       "BertTokenizer(name_or_path='Rostlab/prot_bert', vocab_size=30, model_max_length=1000000000000000019884624838656, is_fast=False, padding_side='right', truncation_side='right', special_tokens={'unk_token': '[UNK]', 'sep_token': '[SEP]', 'pad_token': '[PAD]', 'cls_token': '[CLS]', 'mask_token': '[MASK]'}, clean_up_tokenization_spaces=True)"
      ]
     },
     "execution_count": 246,
     "metadata": {},
     "output_type": "execute_result"
    }
   ],
   "source": [
    "tokenizer"
   ]
  },
  {
   "cell_type": "code",
   "execution_count": 247,
   "metadata": {},
   "outputs": [
    {
     "data": {
      "text/plain": [
       "{'input_ids': [[2, 6, 27, 23, 14, 9, 3], [2, 6, 14, 9, 23, 3, 0]], 'token_type_ids': [[0, 0, 0, 0, 0, 0, 0], [0, 0, 0, 0, 0, 0, 0]], 'attention_mask': [[1, 1, 1, 1, 1, 1, 1], [1, 1, 1, 1, 1, 1, 0]]}"
      ]
     },
     "execution_count": 247,
     "metadata": {},
     "output_type": "execute_result"
    }
   ],
   "source": [
    "tokenizer(['A B C D E', 'A D E C'], padding = True)"
   ]
  },
  {
   "cell_type": "code",
   "execution_count": null,
   "metadata": {},
   "outputs": [],
   "source": [
    "# Load the data\n",
    "train_data = torch.tensor(np.load('train_data.npy')).float()\n",
    "train_labels = torch.tensor(np.load('train_labels.npy')).float()\n",
    "test_data = torch.tensor(np.load('test_data.npy')).float()\n",
    "test_labels = torch.tensor(np.load('test_labels.npy')).float()\n",
    "\n",
    "# Initialize the model and optimizer\n",
    "model = BinaryClassifier()\n",
    "optimizer = optim.SGD(model.parameters(), lr=0.1)\n",
    "\n",
    "# Train the model\n",
    "num_epochs = 100\n",
    "for epoch in range(num_epochs):\n",
    "    # Forward pass\n",
    "    outputs = model(train_data)\n",
    "    loss = nn.BCELoss()(outputs, train_labels)\n",
    "    \n",
    "    # Backward and optimize\n",
    "    optimizer.zero_grad()\n",
    "    loss.backward()\n",
    "    optimizer.step()\n",
    "\n",
    "    # Print training progress\n",
    "    if epoch % 10 == 0:\n",
    "        print('Epoch [{}/{}], Loss: {:.4f}'.format(epoch+1, num_epochs, loss.item()))\n",
    "\n",
    "# Evaluate the model on test data\n",
    "with torch.no_grad():\n",
    "    outputs = model(test_data)\n",
    "    predicted = (outputs > 0.5).float()\n",
    "    accuracy = (predicted == test_labels).float().mean()\n",
    "    print('Test Accuracy: {:.2f}%'.format(accuracy * 100))\n"
   ]
  }
 ],
 "metadata": {
  "kernelspec": {
   "display_name": "Python 3",
   "language": "python",
   "name": "python3"
  },
  "language_info": {
   "codemirror_mode": {
    "name": "ipython",
    "version": 3
   },
   "file_extension": ".py",
   "mimetype": "text/x-python",
   "name": "python",
   "nbconvert_exporter": "python",
   "pygments_lexer": "ipython3",
   "version": "3.10.11"
  },
  "orig_nbformat": 4
 },
 "nbformat": 4,
 "nbformat_minor": 2
}
