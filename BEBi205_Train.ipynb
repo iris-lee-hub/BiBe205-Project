{
  "cells": [
    {
      "cell_type": "code",
      "execution_count": 1,
      "metadata": {
        "colab": {
          "base_uri": "https://localhost:8080/"
        },
        "id": "zd7ECFl3n4Ky",
        "outputId": "276e82bc-94fa-4893-ae4f-128ef411ca5b"
      },
      "outputs": [
        {
          "name": "stdout",
          "output_type": "stream",
          "text": [
            "Looking in indexes: https://pypi.org/simple, https://us-python.pkg.dev/colab-wheels/public/simple/\n",
            "Requirement already satisfied: PyTDC in /usr/local/lib/python3.10/dist-packages (0.4.0)\n",
            "Requirement already satisfied: rdkit-pypi in /usr/local/lib/python3.10/dist-packages (from PyTDC) (2022.9.5)\n",
            "Requirement already satisfied: fuzzywuzzy in /usr/local/lib/python3.10/dist-packages (from PyTDC) (0.18.0)\n",
            "Requirement already satisfied: numpy in /usr/local/lib/python3.10/dist-packages (from PyTDC) (1.22.4)\n",
            "Requirement already satisfied: pandas in /usr/local/lib/python3.10/dist-packages (from PyTDC) (1.5.3)\n",
            "Requirement already satisfied: tqdm in /usr/local/lib/python3.10/dist-packages (from PyTDC) (4.65.0)\n",
            "Requirement already satisfied: scikit-learn in /usr/local/lib/python3.10/dist-packages (from PyTDC) (1.2.2)\n",
            "Requirement already satisfied: seaborn in /usr/local/lib/python3.10/dist-packages (from PyTDC) (0.12.2)\n",
            "Requirement already satisfied: requests in /usr/local/lib/python3.10/dist-packages (from PyTDC) (2.27.1)\n",
            "Requirement already satisfied: huggingface-hub in /usr/local/lib/python3.10/dist-packages (from PyTDC) (0.14.1)\n",
            "Requirement already satisfied: dataclasses in /usr/local/lib/python3.10/dist-packages (from PyTDC) (0.6)\n",
            "Requirement already satisfied: filelock in /usr/local/lib/python3.10/dist-packages (from huggingface-hub->PyTDC) (3.12.0)\n",
            "Requirement already satisfied: fsspec in /usr/local/lib/python3.10/dist-packages (from huggingface-hub->PyTDC) (2023.4.0)\n",
            "Requirement already satisfied: pyyaml>=5.1 in /usr/local/lib/python3.10/dist-packages (from huggingface-hub->PyTDC) (6.0)\n",
            "Requirement already satisfied: typing-extensions>=3.7.4.3 in /usr/local/lib/python3.10/dist-packages (from huggingface-hub->PyTDC) (4.5.0)\n",
            "Requirement already satisfied: packaging>=20.9 in /usr/local/lib/python3.10/dist-packages (from huggingface-hub->PyTDC) (23.1)\n",
            "Requirement already satisfied: python-dateutil>=2.8.1 in /usr/local/lib/python3.10/dist-packages (from pandas->PyTDC) (2.8.2)\n",
            "Requirement already satisfied: pytz>=2020.1 in /usr/local/lib/python3.10/dist-packages (from pandas->PyTDC) (2022.7.1)\n",
            "Requirement already satisfied: Pillow in /usr/local/lib/python3.10/dist-packages (from rdkit-pypi->PyTDC) (8.4.0)\n",
            "Requirement already satisfied: urllib3<1.27,>=1.21.1 in /usr/local/lib/python3.10/dist-packages (from requests->PyTDC) (1.26.15)\n",
            "Requirement already satisfied: certifi>=2017.4.17 in /usr/local/lib/python3.10/dist-packages (from requests->PyTDC) (2022.12.7)\n",
            "Requirement already satisfied: charset-normalizer~=2.0.0 in /usr/local/lib/python3.10/dist-packages (from requests->PyTDC) (2.0.12)\n",
            "Requirement already satisfied: idna<4,>=2.5 in /usr/local/lib/python3.10/dist-packages (from requests->PyTDC) (3.4)\n",
            "Requirement already satisfied: scipy>=1.3.2 in /usr/local/lib/python3.10/dist-packages (from scikit-learn->PyTDC) (1.10.1)\n",
            "Requirement already satisfied: joblib>=1.1.1 in /usr/local/lib/python3.10/dist-packages (from scikit-learn->PyTDC) (1.2.0)\n",
            "Requirement already satisfied: threadpoolctl>=2.0.0 in /usr/local/lib/python3.10/dist-packages (from scikit-learn->PyTDC) (3.1.0)\n",
            "Requirement already satisfied: matplotlib!=3.6.1,>=3.1 in /usr/local/lib/python3.10/dist-packages (from seaborn->PyTDC) (3.7.1)\n",
            "Requirement already satisfied: contourpy>=1.0.1 in /usr/local/lib/python3.10/dist-packages (from matplotlib!=3.6.1,>=3.1->seaborn->PyTDC) (1.0.7)\n",
            "Requirement already satisfied: cycler>=0.10 in /usr/local/lib/python3.10/dist-packages (from matplotlib!=3.6.1,>=3.1->seaborn->PyTDC) (0.11.0)\n",
            "Requirement already satisfied: fonttools>=4.22.0 in /usr/local/lib/python3.10/dist-packages (from matplotlib!=3.6.1,>=3.1->seaborn->PyTDC) (4.39.3)\n",
            "Requirement already satisfied: kiwisolver>=1.0.1 in /usr/local/lib/python3.10/dist-packages (from matplotlib!=3.6.1,>=3.1->seaborn->PyTDC) (1.4.4)\n",
            "Requirement already satisfied: pyparsing>=2.3.1 in /usr/local/lib/python3.10/dist-packages (from matplotlib!=3.6.1,>=3.1->seaborn->PyTDC) (3.0.9)\n",
            "Requirement already satisfied: six>=1.5 in /usr/local/lib/python3.10/dist-packages (from python-dateutil>=2.8.1->pandas->PyTDC) (1.16.0)\n"
          ]
        }
      ],
      "source": [
        "!pip install PyTDC"
      ]
    },
    {
      "cell_type": "code",
      "execution_count": 3,
      "metadata": {
        "id": "WFeewqoqpeXm"
      },
      "outputs": [],
      "source": [
        "import time\n",
        "import pandas as pd\n",
        "import torch\n",
        "import torch.nn as nn\n",
        "import torch.nn.functional as F\n",
        "from torch.utils.data import Dataset\n",
        "from torch.utils.data import DataLoader\n",
        "from torch.utils.data import random_split\n",
        "import torch.optim as optim\n",
        "from tdc.multi_pred import PPI"
      ]
    },
    {
      "cell_type": "code",
      "execution_count": 4,
      "metadata": {
        "colab": {
          "base_uri": "https://localhost:8080/"
        },
        "id": "A0aKpnIqoRoj",
        "outputId": "1ade20c8-aa77-4778-b4a9-94c38eb0afb5"
      },
      "outputs": [
        {
          "name": "stderr",
          "output_type": "stream",
          "text": [
            "Found local copy...\n",
            "Loading...\n",
            "Done!\n"
          ]
        }
      ],
      "source": [
        "data = PPI(name = 'HuRI')\n",
        "data = data.neg_sample(frac = 1)\n",
        "split = data.get_split()\n",
        "train = split['train']\n",
        "valid = split['valid']\n",
        "test = split['test']"
      ]
    },
    {
      "cell_type": "code",
      "execution_count": 7,
      "metadata": {
        "id": "JirxiPqK5kDF"
      },
      "outputs": [],
      "source": [
        "aatoidx = {}\n",
        "i = 0\n",
        "for p in train['Protein1']:\n",
        "  for c in p:\n",
        "    if c not in aatoidx.keys():\n",
        "      aatoidx[c] = i\n",
        "      i += 1\n",
        "  if i == 23:\n",
        "    break"
      ]
    },
    {
      "cell_type": "code",
      "execution_count": 9,
      "metadata": {
        "id": "k9doJaPTF3yW"
      },
      "outputs": [],
      "source": [
        "aa1 = [[aatoidx[c] for c in s] for s in train['Protein1']]\n",
        "aa1_valid = [[aatoidx[c] for c in s] for s in valid['Protein1']]\n",
        "aa1_test = [[aatoidx[c] for c in s] for s in test['Protein1']]\n",
        "\n",
        "aa2 = [[aatoidx[c] for c in s] for s in train['Protein2']]\n",
        "aa2_valid = [[aatoidx[c] for c in s] for s in valid['Protein2']]\n",
        "aa2_test = [[aatoidx[c] for c in s] for s in test['Protein2']]"
      ]
    },
    {
      "cell_type": "code",
      "execution_count": 11,
      "metadata": {
        "colab": {
          "base_uri": "https://localhost:8080/"
        },
        "id": "xxqSI6S-FUNf",
        "outputId": "64b17b17-8186-448c-cbd0-4559cd0dc8b4"
      },
      "outputs": [
        {
          "name": "stdout",
          "output_type": "stream",
          "text": [
            "Min protein lengths:  26 26 26\n",
            "Mean protein lengths:  1406.1779420590321 1380.3393164025206 1404.262125262555\n",
            "Max protein lengths:  33472 33472 33472\n"
          ]
        }
      ],
      "source": [
        "print('Min protein lengths: ',min([len(s) for s in aa1]), min([len(s) for s in aa1_valid]), min([len(s) for s in aa1_test]))\n",
        "print('Mean protein lengths: ',sum([len(s) for s in aa1])/len(aa1), \n",
        "      sum([len(s) for s in aa1_valid])/len(aa1_valid), sum([len(s) for s in aa1_test])/len(aa1_test))\n",
        "print('Max protein lengths: ',max([len(s) for s in aa1]), max([len(s) for s in aa1_valid]), max([len(s) for s in aa1_test]))"
      ]
    },
    {
      "cell_type": "code",
      "execution_count": null,
      "metadata": {},
      "outputs": [],
      "source": [
        "# limiting to protein lengths < 800\n"
      ]
    },
    {
      "cell_type": "code",
      "execution_count": 71,
      "metadata": {
        "id": "dmjs0f_7pQWX"
      },
      "outputs": [],
      "source": [
        "class miRTarBase(Dataset):\n",
        "    def __init__(self, labels, miRNAseqs, AAseqs):\n",
        "        self.labels = labels\n",
        "        self.miRNAseqs = miRNAseqs\n",
        "        self.AAseqs = AAseqs\n",
        "    \n",
        "    def __len__(self):\n",
        "        return self.labels.shape[0]\n",
        "    \n",
        "    def __getitem__(self, idx):\n",
        "        return (torch.tensor([btoidx[c] for c in self.miRNAseqs[idx]]),\n",
        "                torch.tensor([aatoidx[idx] for aa in self.AAseqs[idx]])), \\\n",
        "               torch.tensor(self.labels.iloc[idx]).type(torch.float)"
      ]
    },
    {
      "cell_type": "code",
      "execution_count": 73,
      "metadata": {
        "id": "qNsP_7TMHJr5"
      },
      "outputs": [],
      "source": [
        "class Model(nn.Module):\n",
        "  def __init__(self):\n",
        "    super().__init__()\n",
        "\n",
        "  def forward(self, x):\n",
        "    pass"
      ]
    },
    {
      "cell_type": "code",
      "execution_count": 74,
      "metadata": {
        "colab": {
          "base_uri": "https://localhost:8080/"
        },
        "id": "bXSAnQbUPqUX",
        "outputId": "6b842d02-961b-45d2-fafe-c89637173e00"
      },
      "outputs": [
        {
          "name": "stdout",
          "output_type": "stream",
          "text": [
            "Running on cpu\n"
          ]
        }
      ],
      "source": [
        "device = torch.device('cuda' if torch.cuda.is_available() else 'cpu')\n",
        "print(f'Running on {device}')\n",
        "\n",
        "torch.backends.cudnn.benchmark = True\n",
        "torch.backends.cudnn.enabled = True"
      ]
    },
    {
      "cell_type": "code",
      "execution_count": 75,
      "metadata": {
        "id": "lf0i2bh2QFwI"
      },
      "outputs": [],
      "source": [
        "labels = train['Y']\n",
        "\n",
        "data = miRTarBase(labels, train['miRNA'], train['Target'])\n",
        "\n",
        "train_test = random_split(data, [int(labels.shape[0]*0.7), labels.shape[0]-int(labels.shape[0]*0.7)])\n",
        "\n",
        "batch_size = 16\n",
        "train_loader = DataLoader(train_test[0], batch_size=batch_size, shuffle=True)\n",
        "test_loader = DataLoader(train_test[1], batch_size=batch_size, shuffle=False)"
      ]
    },
    {
      "cell_type": "code",
      "execution_count": null,
      "metadata": {
        "id": "KLiD8fb5QMHI"
      },
      "outputs": [],
      "source": [
        "model = Model()\n",
        "model.to(device)\n",
        "\n",
        "loss_fn = nn.CrossEntropyLoss()\n",
        "\n",
        "optimizer1 = optim.Adam(model.parameters())\n",
        "optimizer2 = optim.SGD(model.parameters(), lr=0.001)\n",
        "\n",
        "n_epochs = 3\n",
        "optimizer_cutoff = int(n_epochs*3/4)"
      ]
    },
    {
      "cell_type": "code",
      "execution_count": null,
      "metadata": {
        "id": "MFn5_3OvL4gl"
      },
      "outputs": [],
      "source": [
        "tic = time.time()\n",
        "\n",
        "for epoch in range(n_epochs):\n",
        "    if epoch < optimizer_cutoff:\n",
        "        optimizer = optimizer1\n",
        "    else:\n",
        "        optimizer = optimizer2\n",
        "    for ex in train_loader:\n",
        "        inputs, labs = ex\n",
        "        labs = labs.to(device)\n",
        "        \n",
        "        optimizer.zero_grad()\n",
        "\n",
        "        outputs = model(inputs)\n",
        "        loss = loss_fn(outputs, labs)\n",
        "        loss.backward()\n",
        "        optimizer.step()\n",
        "\n",
        "    acc = 0\n",
        "    with torch.no_grad():\n",
        "        for ex in test_loader:\n",
        "            inputs, labs = ex\n",
        "            inputs = inputs.to(device)\n",
        "            labs = labs.to(device)\n",
        "            outputs = model(inputs)\n",
        "            ps, preds = torch.max(outputs)\n",
        "            acc += sum(preds == labs) / train_test[0].shape[0]\n",
        "        print(f'Epoch {epoch+1} Accuracy: {acc}')\n",
        "\n",
        "toc = time.time()\n",
        "print(f'Training Runtime: {toc-tic}s')"
      ]
    }
  ],
  "metadata": {
    "colab": {
      "provenance": []
    },
    "kernelspec": {
      "display_name": "Python 3",
      "name": "python3"
    },
    "language_info": {
      "name": "python"
    }
  },
  "nbformat": 4,
  "nbformat_minor": 0
}
