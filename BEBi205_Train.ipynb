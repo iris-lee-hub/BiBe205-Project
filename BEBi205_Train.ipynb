{
  "nbformat": 4,
  "nbformat_minor": 0,
  "metadata": {
    "colab": {
      "provenance": []
    },
    "kernelspec": {
      "name": "python3",
      "display_name": "Python 3"
    },
    "language_info": {
      "name": "python"
    }
  },
  "cells": [
    {
      "cell_type": "code",
      "execution_count": 1,
      "metadata": {
        "colab": {
          "base_uri": "https://localhost:8080/"
        },
        "id": "zd7ECFl3n4Ky",
        "outputId": "276e82bc-94fa-4893-ae4f-128ef411ca5b"
      },
      "outputs": [
        {
          "output_type": "stream",
          "name": "stdout",
          "text": [
            "Looking in indexes: https://pypi.org/simple, https://us-python.pkg.dev/colab-wheels/public/simple/\n",
            "Requirement already satisfied: PyTDC in /usr/local/lib/python3.10/dist-packages (0.4.0)\n",
            "Requirement already satisfied: rdkit-pypi in /usr/local/lib/python3.10/dist-packages (from PyTDC) (2022.9.5)\n",
            "Requirement already satisfied: fuzzywuzzy in /usr/local/lib/python3.10/dist-packages (from PyTDC) (0.18.0)\n",
            "Requirement already satisfied: numpy in /usr/local/lib/python3.10/dist-packages (from PyTDC) (1.22.4)\n",
            "Requirement already satisfied: pandas in /usr/local/lib/python3.10/dist-packages (from PyTDC) (1.5.3)\n",
            "Requirement already satisfied: tqdm in /usr/local/lib/python3.10/dist-packages (from PyTDC) (4.65.0)\n",
            "Requirement already satisfied: scikit-learn in /usr/local/lib/python3.10/dist-packages (from PyTDC) (1.2.2)\n",
            "Requirement already satisfied: seaborn in /usr/local/lib/python3.10/dist-packages (from PyTDC) (0.12.2)\n",
            "Requirement already satisfied: requests in /usr/local/lib/python3.10/dist-packages (from PyTDC) (2.27.1)\n",
            "Requirement already satisfied: huggingface-hub in /usr/local/lib/python3.10/dist-packages (from PyTDC) (0.14.1)\n",
            "Requirement already satisfied: dataclasses in /usr/local/lib/python3.10/dist-packages (from PyTDC) (0.6)\n",
            "Requirement already satisfied: filelock in /usr/local/lib/python3.10/dist-packages (from huggingface-hub->PyTDC) (3.12.0)\n",
            "Requirement already satisfied: fsspec in /usr/local/lib/python3.10/dist-packages (from huggingface-hub->PyTDC) (2023.4.0)\n",
            "Requirement already satisfied: pyyaml>=5.1 in /usr/local/lib/python3.10/dist-packages (from huggingface-hub->PyTDC) (6.0)\n",
            "Requirement already satisfied: typing-extensions>=3.7.4.3 in /usr/local/lib/python3.10/dist-packages (from huggingface-hub->PyTDC) (4.5.0)\n",
            "Requirement already satisfied: packaging>=20.9 in /usr/local/lib/python3.10/dist-packages (from huggingface-hub->PyTDC) (23.1)\n",
            "Requirement already satisfied: python-dateutil>=2.8.1 in /usr/local/lib/python3.10/dist-packages (from pandas->PyTDC) (2.8.2)\n",
            "Requirement already satisfied: pytz>=2020.1 in /usr/local/lib/python3.10/dist-packages (from pandas->PyTDC) (2022.7.1)\n",
            "Requirement already satisfied: Pillow in /usr/local/lib/python3.10/dist-packages (from rdkit-pypi->PyTDC) (8.4.0)\n",
            "Requirement already satisfied: urllib3<1.27,>=1.21.1 in /usr/local/lib/python3.10/dist-packages (from requests->PyTDC) (1.26.15)\n",
            "Requirement already satisfied: certifi>=2017.4.17 in /usr/local/lib/python3.10/dist-packages (from requests->PyTDC) (2022.12.7)\n",
            "Requirement already satisfied: charset-normalizer~=2.0.0 in /usr/local/lib/python3.10/dist-packages (from requests->PyTDC) (2.0.12)\n",
            "Requirement already satisfied: idna<4,>=2.5 in /usr/local/lib/python3.10/dist-packages (from requests->PyTDC) (3.4)\n",
            "Requirement already satisfied: scipy>=1.3.2 in /usr/local/lib/python3.10/dist-packages (from scikit-learn->PyTDC) (1.10.1)\n",
            "Requirement already satisfied: joblib>=1.1.1 in /usr/local/lib/python3.10/dist-packages (from scikit-learn->PyTDC) (1.2.0)\n",
            "Requirement already satisfied: threadpoolctl>=2.0.0 in /usr/local/lib/python3.10/dist-packages (from scikit-learn->PyTDC) (3.1.0)\n",
            "Requirement already satisfied: matplotlib!=3.6.1,>=3.1 in /usr/local/lib/python3.10/dist-packages (from seaborn->PyTDC) (3.7.1)\n",
            "Requirement already satisfied: contourpy>=1.0.1 in /usr/local/lib/python3.10/dist-packages (from matplotlib!=3.6.1,>=3.1->seaborn->PyTDC) (1.0.7)\n",
            "Requirement already satisfied: cycler>=0.10 in /usr/local/lib/python3.10/dist-packages (from matplotlib!=3.6.1,>=3.1->seaborn->PyTDC) (0.11.0)\n",
            "Requirement already satisfied: fonttools>=4.22.0 in /usr/local/lib/python3.10/dist-packages (from matplotlib!=3.6.1,>=3.1->seaborn->PyTDC) (4.39.3)\n",
            "Requirement already satisfied: kiwisolver>=1.0.1 in /usr/local/lib/python3.10/dist-packages (from matplotlib!=3.6.1,>=3.1->seaborn->PyTDC) (1.4.4)\n",
            "Requirement already satisfied: pyparsing>=2.3.1 in /usr/local/lib/python3.10/dist-packages (from matplotlib!=3.6.1,>=3.1->seaborn->PyTDC) (3.0.9)\n",
            "Requirement already satisfied: six>=1.5 in /usr/local/lib/python3.10/dist-packages (from python-dateutil>=2.8.1->pandas->PyTDC) (1.16.0)\n"
          ]
        }
      ],
      "source": [
        "!pip install PyTDC"
      ]
    },
    {
      "cell_type": "code",
      "source": [
        "import time\n",
        "import pandas as pd\n",
        "import torch\n",
        "import torch.nn as nn\n",
        "import torch.nn.functional as F\n",
        "from torch.utils.data import Dataset\n",
        "from torch.utils.data import DataLoader\n",
        "from torch.utils.data import random_split\n",
        "import torch.optim as optim\n",
        "from tdc.multi_pred import MTI"
      ],
      "metadata": {
        "id": "WFeewqoqpeXm"
      },
      "execution_count": 7,
      "outputs": []
    },
    {
      "cell_type": "code",
      "source": [
        "data = MTI(name = 'miRTarBase')\n",
        "data = data.neg_sample(frac = 1)\n",
        "split = data.get_split()\n",
        "train = split['train']\n",
        "valid = split['valid']\n",
        "test = split['test']"
      ],
      "metadata": {
        "colab": {
          "base_uri": "https://localhost:8080/"
        },
        "id": "A0aKpnIqoRoj",
        "outputId": "1ade20c8-aa77-4778-b4a9-94c38eb0afb5"
      },
      "execution_count": 26,
      "outputs": [
        {
          "output_type": "stream",
          "name": "stderr",
          "text": [
            "Found local copy...\n",
            "Loading...\n",
            "Done!\n"
          ]
        }
      ]
    },
    {
      "cell_type": "code",
      "source": [
        "bto1hot = {'U':[1,0,0,0], 'C':[0,1,0,0], 'A':[0,0,1,0], 'G':[0,0,0,1]}\n",
        "btoidx = {'U':0, 'C':1, 'A':2, 'G':3}\n",
        "\n",
        "ucag1hot = [[bto1hot[b] for b in s] for s in train['miRNA']]\n",
        "ucag = [[btoidx[b] for b in s] for s in train['miRNA']]\n",
        "ucag1hot_valid = [[bto1hot[b] for b in s] for s in valid['miRNA']]\n",
        "ucag_valid = [[btoidx[b] for b in s] for s in valid['miRNA']]\n",
        "ucag1hot_test = [[bto1hot[b] for b in s] for s in test['miRNA']]\n",
        "ucag_test = [[btoidx[b] for b in s] for s in test['miRNA']]"
      ],
      "metadata": {
        "id": "KFJmdBKNyxZP"
      },
      "execution_count": 61,
      "outputs": []
    },
    {
      "cell_type": "code",
      "source": [
        "print('Min seq lengths: ',min([len(s) for s in ucag]), min([len(s) for s in ucag_valid]), min([len(s) for s in ucag_test]))\n",
        "print('Mean seq lengths: ',sum([len(s) for s in ucag])/len(ucag), \n",
        "      sum([len(s) for s in ucag_valid])/len(ucag_valid), sum([len(s) for s in ucag_test])/len(ucag_test))\n",
        "print('Max seq lengths: ',max([len(s) for s in ucag]), max([len(s) for s in ucag_valid]), max([len(s) for s in ucag_test]))"
      ],
      "metadata": {
        "colab": {
          "base_uri": "https://localhost:8080/"
        },
        "id": "rl7u77ZD4xAG",
        "outputId": "77607640-ffe3-4319-aeab-398a7ecadf98"
      },
      "execution_count": 67,
      "outputs": [
        {
          "output_type": "stream",
          "name": "stdout",
          "text": [
            "Min seq lengths:  16 16 16\n",
            "Mean seq lengths:  21.69915285253921 21.70384673065387 21.702298900851698\n",
            "Max seq lengths:  28 28 28\n"
          ]
        }
      ]
    },
    {
      "cell_type": "code",
      "source": [
        "aatoidx = {}\n",
        "i = 0\n",
        "for p in train['Target']:\n",
        "  for c in p:\n",
        "    if c not in aatoidx.keys():\n",
        "      aatoidx[c] = i\n",
        "      i += 1\n",
        "  if i == 23:\n",
        "    break"
      ],
      "metadata": {
        "id": "JirxiPqK5kDF"
      },
      "execution_count": 65,
      "outputs": []
    },
    {
      "cell_type": "code",
      "source": [
        "aa = [[aatoidx[c] for c in s] for s in train['Target']]\n",
        "aa_valid = [[aatoidx[c] for c in s] for s in valid['Target']]\n",
        "aa_test = [[aatoidx[c] for c in s] for s in test['Target']]"
      ],
      "metadata": {
        "id": "k9doJaPTF3yW"
      },
      "execution_count": 69,
      "outputs": []
    },
    {
      "cell_type": "code",
      "source": [
        "print('Min protein lengths: ',min([len(s) for s in aa]), min([len(s) for s in aa_valid]), min([len(s) for s in aa_test]))\n",
        "print('Mean protein lengths: ',sum([len(s) for s in aa])/len(aa), \n",
        "      sum([len(s) for s in aa_valid])/len(aa_valid), sum([len(s) for s in aa_test])/len(aa_test))\n",
        "print('Max protein lengths: ',max([len(s) for s in aa]), max([len(s) for s in aa_valid]), max([len(s) for s in aa_test]))"
      ],
      "metadata": {
        "colab": {
          "base_uri": "https://localhost:8080/"
        },
        "id": "xxqSI6S-FUNf",
        "outputId": "64b17b17-8186-448c-cbd0-4559cd0dc8b4"
      },
      "execution_count": 70,
      "outputs": [
        {
          "output_type": "stream",
          "name": "stdout",
          "text": [
            "Min protein lengths:  24 24 24\n",
            "Mean protein lengths:  607.473874115137 606.6637672465507 606.0150468965776\n",
            "Max protein lengths:  34350 8799 34350\n"
          ]
        }
      ]
    },
    {
      "cell_type": "code",
      "source": [
        "class miRTarBase(Dataset):\n",
        "    def __init__(self, labels, miRNAseqs, AAseqs):\n",
        "        self.labels = labels\n",
        "        self.miRNAseqs = miRNAseqs\n",
        "        self.AAseqs = AAseqs\n",
        "    \n",
        "    def __len__(self):\n",
        "        return self.labels.shape[0]\n",
        "    \n",
        "    def __getitem__(self, idx):\n",
        "        return (torch.tensor([btoidx[c] for c in self.miRNAseqs[idx]]),\n",
        "                torch.tensor([aatoidx[idx] for aa in self.AAseqs[idx]])), \\\n",
        "               torch.tensor(self.labels.iloc[idx]).type(torch.float)"
      ],
      "metadata": {
        "id": "dmjs0f_7pQWX"
      },
      "execution_count": 71,
      "outputs": []
    },
    {
      "cell_type": "code",
      "source": [
        "class Model(nn.Module):\n",
        "  def __init__(self):\n",
        "    super().__init__()\n",
        "\n",
        "  def forward(self, x):\n",
        "    pass"
      ],
      "metadata": {
        "id": "qNsP_7TMHJr5"
      },
      "execution_count": 73,
      "outputs": []
    },
    {
      "cell_type": "code",
      "source": [
        "device = torch.device('cuda' if torch.cuda.is_available() else 'cpu')\n",
        "print(f'Running on {device}')\n",
        "\n",
        "torch.backends.cudnn.benchmark = True\n",
        "torch.backends.cudnn.enabled = True"
      ],
      "metadata": {
        "colab": {
          "base_uri": "https://localhost:8080/"
        },
        "id": "bXSAnQbUPqUX",
        "outputId": "6b842d02-961b-45d2-fafe-c89637173e00"
      },
      "execution_count": 74,
      "outputs": [
        {
          "output_type": "stream",
          "name": "stdout",
          "text": [
            "Running on cpu\n"
          ]
        }
      ]
    },
    {
      "cell_type": "code",
      "source": [
        "labels = train['Y']\n",
        "\n",
        "data = miRTarBase(labels, train['miRNA'], train['Target'])\n",
        "\n",
        "train_test = random_split(data, [int(labels.shape[0]*0.7), labels.shape[0]-int(labels.shape[0]*0.7)])\n",
        "\n",
        "batch_size = 16\n",
        "train_loader = DataLoader(train_test[0], batch_size=batch_size, shuffle=True)\n",
        "test_loader = DataLoader(train_test[1], batch_size=batch_size, shuffle=False)"
      ],
      "metadata": {
        "id": "lf0i2bh2QFwI"
      },
      "execution_count": 75,
      "outputs": []
    },
    {
      "cell_type": "code",
      "source": [
        "model = Model()\n",
        "model.to(device)\n",
        "\n",
        "loss_fn = nn.CrossEntropyLoss()\n",
        "\n",
        "optimizer1 = optim.Adam(model.parameters())\n",
        "optimizer2 = optim.SGD(model.parameters(), lr=0.001)\n",
        "\n",
        "n_epochs = 3\n",
        "optimizer_cutoff = int(n_epochs*3/4)"
      ],
      "metadata": {
        "id": "KLiD8fb5QMHI"
      },
      "execution_count": null,
      "outputs": []
    },
    {
      "cell_type": "code",
      "source": [
        "tic = time.time()\n",
        "\n",
        "for epoch in range(n_epochs):\n",
        "    if epoch < optimizer_cutoff:\n",
        "        optimizer = optimizer1\n",
        "    else:\n",
        "        optimizer = optimizer2\n",
        "    for ex in train_loader:\n",
        "        inputs, labs = ex\n",
        "        labs = labs.to(device)\n",
        "        \n",
        "        optimizer.zero_grad()\n",
        "\n",
        "        outputs = model(inputs)\n",
        "        loss = loss_fn(outputs, labs)\n",
        "        loss.backward()\n",
        "        optimizer.step()\n",
        "\n",
        "    acc = 0\n",
        "    with torch.no_grad():\n",
        "        for ex in test_loader:\n",
        "            inputs, labs = ex\n",
        "            inputs = inputs.to(device)\n",
        "            labs = labs.to(device)\n",
        "            outputs = model(inputs)\n",
        "            ps, preds = torch.max(outputs)\n",
        "            acc += sum(preds == labs) / train_test[0].shape[0]\n",
        "        print(f'Epoch {epoch+1} Accuracy: {acc}')\n",
        "\n",
        "toc = time.time()\n",
        "print(f'Training Runtime: {toc-tic}s')"
      ],
      "metadata": {
        "id": "MFn5_3OvL4gl"
      },
      "execution_count": null,
      "outputs": []
    }
  ]
}