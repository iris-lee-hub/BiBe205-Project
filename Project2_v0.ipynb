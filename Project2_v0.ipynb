{
 "cells": [
  {
   "cell_type": "code",
   "execution_count": 36,
   "id": "869a3eea-d2c7-4403-b912-92ae27cbca1e",
   "metadata": {},
   "outputs": [
    {
     "ename": "KeyboardInterrupt",
     "evalue": "",
     "output_type": "error",
     "traceback": [
      "\u001b[1;31m---------------------------------------------------------------------------\u001b[0m",
      "\u001b[1;31mKeyboardInterrupt\u001b[0m                         Traceback (most recent call last)",
      "Cell \u001b[1;32mIn[36], line 1\u001b[0m\n\u001b[1;32m----> 1\u001b[0m \u001b[39mimport\u001b[39;00m \u001b[39mtime\u001b[39;00m\n\u001b[0;32m      2\u001b[0m \u001b[39mimport\u001b[39;00m \u001b[39mpandas\u001b[39;00m \u001b[39mas\u001b[39;00m \u001b[39mpd\u001b[39;00m\n\u001b[0;32m      3\u001b[0m \u001b[39mimport\u001b[39;00m \u001b[39mmatplotlib\u001b[39;00m\u001b[39m.\u001b[39;00m\u001b[39mpyplot\u001b[39;00m \u001b[39mas\u001b[39;00m \u001b[39mplt\u001b[39;00m\n",
      "Cell \u001b[1;32mIn[36], line 1\u001b[0m\n\u001b[1;32m----> 1\u001b[0m \u001b[39mimport\u001b[39;00m \u001b[39mtime\u001b[39;00m\n\u001b[0;32m      2\u001b[0m \u001b[39mimport\u001b[39;00m \u001b[39mpandas\u001b[39;00m \u001b[39mas\u001b[39;00m \u001b[39mpd\u001b[39;00m\n\u001b[0;32m      3\u001b[0m \u001b[39mimport\u001b[39;00m \u001b[39mmatplotlib\u001b[39;00m\u001b[39m.\u001b[39;00m\u001b[39mpyplot\u001b[39;00m \u001b[39mas\u001b[39;00m \u001b[39mplt\u001b[39;00m\n",
      "File \u001b[1;32m_pydevd_bundle/pydevd_cython.pyx:1457\u001b[0m, in \u001b[0;36m_pydevd_bundle.pydevd_cython.SafeCallWrapper.__call__\u001b[1;34m()\u001b[0m\n",
      "File \u001b[1;32m_pydevd_bundle/pydevd_cython.pyx:701\u001b[0m, in \u001b[0;36m_pydevd_bundle.pydevd_cython.PyDBFrame.trace_dispatch\u001b[1;34m()\u001b[0m\n",
      "File \u001b[1;32m_pydevd_bundle/pydevd_cython.pyx:1152\u001b[0m, in \u001b[0;36m_pydevd_bundle.pydevd_cython.PyDBFrame.trace_dispatch\u001b[1;34m()\u001b[0m\n",
      "File \u001b[1;32m_pydevd_bundle/pydevd_cython.pyx:1135\u001b[0m, in \u001b[0;36m_pydevd_bundle.pydevd_cython.PyDBFrame.trace_dispatch\u001b[1;34m()\u001b[0m\n",
      "File \u001b[1;32m_pydevd_bundle/pydevd_cython.pyx:312\u001b[0m, in \u001b[0;36m_pydevd_bundle.pydevd_cython.PyDBFrame.do_wait_suspend\u001b[1;34m()\u001b[0m\n",
      "File \u001b[1;32m~\\AppData\\Local\\Packages\\PythonSoftwareFoundation.Python.3.10_qbz5n2kfra8p0\\LocalCache\\local-packages\\Python310\\site-packages\\debugpy\\_vendored\\pydevd\\pydevd.py:2070\u001b[0m, in \u001b[0;36mPyDB.do_wait_suspend\u001b[1;34m(self, thread, frame, event, arg, exception_type)\u001b[0m\n\u001b[0;32m   2067\u001b[0m             from_this_thread\u001b[39m.\u001b[39mappend(frame_custom_thread_id)\n\u001b[0;32m   2069\u001b[0m     \u001b[39mwith\u001b[39;00m \u001b[39mself\u001b[39m\u001b[39m.\u001b[39m_threads_suspended_single_notification\u001b[39m.\u001b[39mnotify_thread_suspended(thread_id, thread, stop_reason):\n\u001b[1;32m-> 2070\u001b[0m         keep_suspended \u001b[39m=\u001b[39m \u001b[39mself\u001b[39;49m\u001b[39m.\u001b[39;49m_do_wait_suspend(thread, frame, event, arg, suspend_type, from_this_thread, frames_tracker)\n\u001b[0;32m   2072\u001b[0m frames_list \u001b[39m=\u001b[39m \u001b[39mNone\u001b[39;00m\n\u001b[0;32m   2074\u001b[0m \u001b[39mif\u001b[39;00m keep_suspended:\n\u001b[0;32m   2075\u001b[0m     \u001b[39m# This means that we should pause again after a set next statement.\u001b[39;00m\n",
      "File \u001b[1;32m~\\AppData\\Local\\Packages\\PythonSoftwareFoundation.Python.3.10_qbz5n2kfra8p0\\LocalCache\\local-packages\\Python310\\site-packages\\debugpy\\_vendored\\pydevd\\pydevd.py:2106\u001b[0m, in \u001b[0;36mPyDB._do_wait_suspend\u001b[1;34m(self, thread, frame, event, arg, suspend_type, from_this_thread, frames_tracker)\u001b[0m\n\u001b[0;32m   2103\u001b[0m         \u001b[39mself\u001b[39m\u001b[39m.\u001b[39m_call_input_hook()\n\u001b[0;32m   2105\u001b[0m     \u001b[39mself\u001b[39m\u001b[39m.\u001b[39mprocess_internal_commands()\n\u001b[1;32m-> 2106\u001b[0m     time\u001b[39m.\u001b[39;49msleep(\u001b[39m0.01\u001b[39;49m)\n\u001b[0;32m   2108\u001b[0m \u001b[39mself\u001b[39m\u001b[39m.\u001b[39mcancel_async_evaluation(get_current_thread_id(thread), \u001b[39mstr\u001b[39m(\u001b[39mid\u001b[39m(frame)))\n\u001b[0;32m   2110\u001b[0m \u001b[39m# process any stepping instructions\u001b[39;00m\n",
      "\u001b[1;31mKeyboardInterrupt\u001b[0m: "
     ]
    }
   ],
   "source": [
    "import time\n",
    "import pandas as pd\n",
    "import matplotlib.pyplot as plt\n",
    "import bokeh.io\n",
    "import bokeh.plotting\n",
    "import torch\n",
    "import torch.nn as nn\n",
    "import torch.nn.utils.rnn as rnn_utils\n",
    "import torch.nn.functional as F\n",
    "import numpy as np\n",
    "from torch.utils.data import Dataset\n",
    "from torch.utils.data import DataLoader\n",
    "from torch.utils.data import random_split\n",
    "import torch.optim as optim\n",
    "from tdc.multi_pred import PPI\n",
    "from tqdm import tqdm\n",
    "\n",
    "ts = time.time()\n",
    "bokeh.io.output_notebook()"
   ]
  },
  {
   "cell_type": "code",
   "execution_count": 21,
   "id": "0dcf6e3d-50ff-4a4d-b72d-c44bdf4f8306",
   "metadata": {},
   "outputs": [
    {
     "name": "stderr",
     "output_type": "stream",
     "text": [
      "Found local copy...\n",
      "Loading...\n",
      "Done!\n"
     ]
    }
   ],
   "source": [
    "data = PPI(name = 'HuRI')\n",
    "data = data.neg_sample(frac = 1)\n",
    "split = data.get_split()\n",
    "train = split['train']\n",
    "valid = split['valid']\n",
    "test = split['test']"
   ]
  },
  {
   "cell_type": "code",
   "execution_count": 22,
   "id": "37b733d1",
   "metadata": {},
   "outputs": [],
   "source": [
    "# remove data where protein sequences are longer than 800 amino acids\n",
    "train = train.loc[train[\"Protein1\"].str.len()<800]\n",
    "train = train.loc[train[\"Protein2\"].str.len()<800]\n",
    "valid = valid.loc[valid[\"Protein1\"].str.len()<800]\n",
    "valid = valid.loc[valid[\"Protein2\"].str.len()<800]\n",
    "test = test.loc[test[\"Protein1\"].str.len()<800]\n",
    "test = test.loc[test[\"Protein2\"].str.len()<800]"
   ]
  },
  {
   "cell_type": "code",
   "execution_count": 23,
   "id": "309aff5a-24e3-4fe5-b117-734da5a3195d",
   "metadata": {},
   "outputs": [
    {
     "data": {
      "text/html": [
       "<div>\n",
       "<style scoped>\n",
       "    .dataframe tbody tr th:only-of-type {\n",
       "        vertical-align: middle;\n",
       "    }\n",
       "\n",
       "    .dataframe tbody tr th {\n",
       "        vertical-align: top;\n",
       "    }\n",
       "\n",
       "    .dataframe thead th {\n",
       "        text-align: right;\n",
       "    }\n",
       "</style>\n",
       "<table border=\"1\" class=\"dataframe\">\n",
       "  <thead>\n",
       "    <tr style=\"text-align: right;\">\n",
       "      <th></th>\n",
       "      <th>Protein1_ID</th>\n",
       "      <th>Protein1</th>\n",
       "      <th>Protein2_ID</th>\n",
       "      <th>Protein2</th>\n",
       "      <th>Y</th>\n",
       "    </tr>\n",
       "  </thead>\n",
       "  <tbody>\n",
       "    <tr>\n",
       "      <th>0</th>\n",
       "      <td>ENSG00000000005</td>\n",
       "      <td>MAKNPPENCEDCHILNAEAFKSKKICKSLKICGLVFGILALTLIVL...</td>\n",
       "      <td>ENSG00000061656</td>\n",
       "      <td>MRRSSRPGSASSSRKHTPNFFSENSSMSITSEDSKGLRSAEPGPGE...</td>\n",
       "      <td>1</td>\n",
       "    </tr>\n",
       "    <tr>\n",
       "      <th>1</th>\n",
       "      <td>ENSG00000000005</td>\n",
       "      <td>MAKNPPENCEDCHILNAEAFKSKKICKSLKICGLVFGILALTLIVL...</td>\n",
       "      <td>ENSG00000104765</td>\n",
       "      <td>MSSHLVEPPPPLHNNNNNCEENEQSLPPPAGLNSSWVELPMNSSNG...</td>\n",
       "      <td>1</td>\n",
       "    </tr>\n",
       "  </tbody>\n",
       "</table>\n",
       "</div>"
      ],
      "text/plain": [
       "       Protein1_ID                                           Protein1   \n",
       "0  ENSG00000000005  MAKNPPENCEDCHILNAEAFKSKKICKSLKICGLVFGILALTLIVL...  \\\n",
       "1  ENSG00000000005  MAKNPPENCEDCHILNAEAFKSKKICKSLKICGLVFGILALTLIVL...   \n",
       "\n",
       "       Protein2_ID                                           Protein2  Y  \n",
       "0  ENSG00000061656  MRRSSRPGSASSSRKHTPNFFSENSSMSITSEDSKGLRSAEPGPGE...  1  \n",
       "1  ENSG00000104765  MSSHLVEPPPPLHNNNNNCEENEQSLPPPAGLNSSWVELPMNSSNG...  1  "
      ]
     },
     "execution_count": 23,
     "metadata": {},
     "output_type": "execute_result"
    }
   ],
   "source": [
    "train.head(2)"
   ]
  },
  {
   "cell_type": "code",
   "execution_count": 24,
   "id": "5cc67f70-34b7-4edf-a0bb-0fede84d1f15",
   "metadata": {},
   "outputs": [],
   "source": [
    "aatoidx = {}\n",
    "i = 1\n",
    "skip = False\n",
    "for p1 in train['Protein1']:\n",
    "    for c1 in p1:\n",
    "        if c1 not in aatoidx.keys():\n",
    "            aatoidx[c1] = i\n",
    "            i += 1\n",
    "    if i == 24:\n",
    "        skip = True\n",
    "        break\n",
    "if not skip:\n",
    "    for p2 in train['Protein2']:\n",
    "        for c2 in p2:\n",
    "            if c1 not in aatoidx.keys():\n",
    "                aatoidx[c1] = i\n",
    "                i += 1\n",
    "        if i == 23:\n",
    "            break\n",
    "\n",
    "idxtoaa = {}\n",
    "for key in aatoidx.keys():\n",
    "    idxtoaa[aatoidx[key]] = key"
   ]
  },
  {
   "cell_type": "code",
   "execution_count": 25,
   "id": "c8fb172c-32ee-4dfd-b8e6-46e9d33c4118",
   "metadata": {},
   "outputs": [],
   "source": [
    "aa1 = [[aatoidx[s[i]] if i < len(s) else 0 for i in range(800)] for s in train['Protein1']]\n",
    "aa2 = [[aatoidx[s[i]] if i < len(s) else 0 for i in range(800)] for s in train['Protein2']]\n",
    "aav1 = [[aatoidx[s[i]] if i < len(s) else 0 for i in range(800)] for s in valid['Protein1']]\n",
    "aav2 = [[aatoidx[s[i]] if i < len(s) else 0 for i in range(800)] for s in valid['Protein2']]\n",
    "aat1 = [[aatoidx[s[i]] if i < len(s) else 0 for i in range(800)] for s in test['Protein1']]\n",
    "aat2 = [[aatoidx[s[i]] if i < len(s) else 0 for i in range(800)] for s in test['Protein2']]"
   ]
  },
  {
   "cell_type": "code",
   "execution_count": 26,
   "id": "390aa228-d0e9-4e77-9918-240284eb54f5",
   "metadata": {},
   "outputs": [
    {
     "data": {
      "text/plain": [
       "(18386, 18386, 2549, 2549, 5272, 5272)"
      ]
     },
     "execution_count": 26,
     "metadata": {},
     "output_type": "execute_result"
    }
   ],
   "source": [
    "len(aa1), len(aa2), len(aav1), len(aav2), len(aat1), len(aat2)"
   ]
  },
  {
   "cell_type": "code",
   "execution_count": 27,
   "id": "22ea00ae-c393-4e9e-9636-5ac2b90cf903",
   "metadata": {},
   "outputs": [
    {
     "name": "stdout",
     "output_type": "stream",
     "text": [
      "Min protein lengths:\n",
      "\tTrain 1: 800\n",
      "\tTrain 2: 800\n",
      "\tValid 1: 800\n",
      "\tValid 2: 800\n",
      "\tTest 1: 800\n",
      "\tTest 2: 800\n",
      "Mean protein lengths:\n",
      "\tTrain 1: 800.0\n",
      "\tTrain 2: 800.0\n",
      "\tValid 1: 800.0\n",
      "\tValid 2: 800.0\n",
      "\tTest 1: 800.0\n",
      "\tTest 2: 800.0\n",
      "Max protein lengths:\n",
      "\tTrain 1: 800\n",
      "\tTrain 2: 800\n",
      "\tValid 1: 800\n",
      "\tValid 2: 800\n",
      "\tTest 1: 800\n",
      "\tTest 2: 800\n"
     ]
    }
   ],
   "source": [
    "print('Min protein lengths:')\n",
    "print('\\tTrain 1:', min([len(s) for s in aa1]))\n",
    "print('\\tTrain 2:', min([len(s) for s in aa2]))\n",
    "print('\\tValid 1:', min([len(s) for s in aav1]))\n",
    "print('\\tValid 2:', min([len(s) for s in aav2]))\n",
    "print('\\tTest 1:', min([len(s) for s in aat1]))\n",
    "print('\\tTest 2:', min([len(s) for s in aat2]))\n",
    "print('Mean protein lengths:')\n",
    "print('\\tTrain 1:', sum([len(s) for s in aa1])/len(aa1))\n",
    "print('\\tTrain 2:', sum([len(s) for s in aa2])/len(aa2))\n",
    "print('\\tValid 1:', sum([len(s) for s in aav1])/len(aav1))\n",
    "print('\\tValid 2:', sum([len(s) for s in aav2])/len(aav2))\n",
    "print('\\tTest 1:', sum([len(s) for s in aat1])/len(aat1))\n",
    "print('\\tTest 2:', sum([len(s) for s in aat2])/len(aat2))\n",
    "print('Max protein lengths:')\n",
    "print('\\tTrain 1:', max([len(s) for s in aa1]))\n",
    "print('\\tTrain 2:', max([len(s) for s in aa2]))\n",
    "print('\\tValid 1:', max([len(s) for s in aav1]))\n",
    "print('\\tValid 2:', max([len(s) for s in aav2]))\n",
    "print('\\tTest 1:', max([len(s) for s in aat1]))\n",
    "print('\\tTest 2:', max([len(s) for s in aat2]))"
   ]
  },
  {
   "cell_type": "code",
   "execution_count": 28,
   "id": "62f9582b-443b-4b7e-bbd5-90835e7c7c6a",
   "metadata": {},
   "outputs": [],
   "source": [
    "# p = bokeh.plotting.figure(title='Sequence Length CDFs', x_axis_type='log', y_axis_type='log')\n",
    "# p.line(lens, [(i+1)/len(aa1) for i in range(len(aa1))],\n",
    "#        color='red', legend_label='Train 1', line_width=3, alpha=0.5)\n",
    "# p.line(lens2, [(i+1)/len(aa2) for i in range(len(aa2))],\n",
    "#        color='orange', legend_label='Train 2', line_width=3, alpha=0.5)\n",
    "# p.line(lensv, [(i+1)/len(aav1) for i in range(len(aav1))],\n",
    "#        color='green', legend_label='Valid 1', line_width=3, alpha=0.5)\n",
    "# p.line(lensv2, [(i+1)/len(aav2) for i in range(len(aav2))],\n",
    "#        color='cyan', legend_label='Valid 2', line_width=3, alpha=0.5)\n",
    "# p.line(lenst, [(i+1)/len(aat1) for i in range(len(aat1))],\n",
    "#        color='blue', legend_label='Test 1', line_width=3, alpha=0.5)\n",
    "# p.line(lenst2, [(i+1)/len(aat2) for i in range(len(aat2))],\n",
    "#        color='purple', legend_label='Test 2', line_width=3, alpha=0.5)\n",
    "# p.legend.location = 'top_left'\n",
    "# bokeh.io.show(p)"
   ]
  },
  {
   "cell_type": "code",
   "execution_count": 29,
   "id": "5b3ae442-4fd7-4c6c-a3cf-da519e9161ef",
   "metadata": {
    "tags": []
   },
   "outputs": [],
   "source": [
    "class HuRI(Dataset):\n",
    "    def __init__(self, labels, p1s, p2s):\n",
    "        # labels is an (n_samples,)-long ndarray\n",
    "        # p1s is a list of lists of integers representing protein 1 amino acids\n",
    "        # p2s is a list of lists of integers representing protein 2 amino acids\n",
    "        self.labels = labels\n",
    "        self.p1s = p1s\n",
    "        self.p2s = p2s\n",
    "    \n",
    "    def __len__(self):\n",
    "        return self.labels.shape[0]\n",
    "    \n",
    "    def __getitem__(self, idx):\n",
    "        return (torch.tensor(self.p1s[idx], dtype=torch.float32), torch.tensor(self.p2s[idx], dtype=torch.float32)), \\\n",
    "               torch.tensor(self.labels.iloc[idx]).type(torch.float32)"
   ]
  },
  {
   "cell_type": "code",
   "execution_count": 30,
   "id": "dbb69568-ddc5-435e-b139-eafcc0a5b41e",
   "metadata": {},
   "outputs": [
    {
     "name": "stdout",
     "output_type": "stream",
     "text": [
      "Running on cpu\n"
     ]
    }
   ],
   "source": [
    "device = torch.device('cuda' if torch.cuda.is_available() else 'cpu')\n",
    "print(f'Running on {device}')\n",
    "\n",
    "torch.backends.cudnn.benchmark = True\n",
    "torch.backends.cudnn.enabled = True"
   ]
  },
  {
   "cell_type": "code",
   "execution_count": 31,
   "id": "0b207585-ba2d-478b-9109-72735f061c15",
   "metadata": {
    "id": "lf0i2bh2QFwI"
   },
   "outputs": [],
   "source": [
    "labels = train['Y']\n",
    "\n",
    "data = HuRI(labels, aa1, aa2)\n",
    "\n",
    "batch_size = 16\n",
    "train_loader = DataLoader(data, batch_size=batch_size, shuffle=True)"
   ]
  },
  {
   "cell_type": "code",
   "execution_count": 32,
   "id": "f098d4fd",
   "metadata": {},
   "outputs": [],
   "source": [
    "labels = test['Y']\n",
    "\n",
    "data = HuRI(labels, aat1, aat2)\n",
    "\n",
    "batch_size = 18282\n",
    "test_loader = DataLoader(data, batch_size=batch_size, shuffle=True)"
   ]
  },
  {
   "cell_type": "code",
   "execution_count": 38,
   "id": "a3441be7",
   "metadata": {},
   "outputs": [],
   "source": [
    "# Define the neural network model\n",
    "class BinaryClassifier(nn.Module):\n",
    "    def __init__(self, n_samples = 5):\n",
    "        super(BinaryClassifier, self).__init__()\n",
    "        self.weight = nn.Parameter(torch.randn(1, requires_grad=True))\n",
    "        self.fc1 = nn.Linear(800, n_samples)   # Input layer\n",
    "        # Layers???\n",
    "        self.fc2 = nn.Linear(800, n_samples)\n",
    "        self.gelu = nn.GELU()\n",
    "        self.fc3 = nn.Linear(10, 1)    \n",
    "        self.sig = nn.Sigmoid() # Output layer        \n",
    "\n",
    "    def forward(self, x1, x2):\n",
    "        out1 = self.gelu(self.fc1(x1))\n",
    "        out2 = self.gelu(self.fc2(x2))\n",
    "        out = torch.cat((out1, out2), dim=1)\n",
    "        out = self.fc3(out)\n",
    "        out = out*self.weight\n",
    "        out = self.sig(out)\n",
    "\n",
    "        return out\n"
   ]
  },
  {
   "cell_type": "code",
   "execution_count": 39,
   "id": "a9c43a88",
   "metadata": {},
   "outputs": [
    {
     "name": "stderr",
     "output_type": "stream",
     "text": [
      "100%|██████████| 100/100 [13:42<00:00,  8.23s/it]\n"
     ]
    }
   ],
   "source": [
    "# Initialize the model and optimizer\n",
    "model = BinaryClassifier()\n",
    "optimizer = optim.SGD(model.parameters(), lr=0.01)\n",
    "loss_tracker = []\n",
    "\n",
    "# Train the model\n",
    "num_epochs = 100\n",
    "for epoch in tqdm(range(num_epochs)):\n",
    "    for i, (train_data, train_labels) in enumerate(train_loader):\n",
    "        # Forward pass\n",
    "        outputs = model(train_data[0], train_data[1])\n",
    "        train_labels = train_labels.unsqueeze(1)\n",
    "        loss = nn.BCELoss()(outputs, train_labels)\n",
    "        \n",
    "        # Backward and optimize\n",
    "        optimizer.zero_grad()\n",
    "        loss.backward()\n",
    "        optimizer.step()\n",
    "\n",
    "        # Print training progress\n",
    "        # Save loss\n",
    "        if epoch % 10 == 0:\n",
    "        #    print('Epoch [{}/{}], Loss: {:.4f}'.format(epoch+1, num_epochs, loss.item()))\n",
    "            loss_tracker.append(loss.detach().numpy())\n"
   ]
  },
  {
   "cell_type": "code",
   "execution_count": 40,
   "id": "52880a46",
   "metadata": {},
   "outputs": [
    {
     "data": {
      "text/plain": [
       "[<matplotlib.lines.Line2D at 0x212b0efa1d0>]"
      ]
     },
     "execution_count": 40,
     "metadata": {},
     "output_type": "execute_result"
    },
    {
     "data": {
      "image/png": "[encoded data removed]",
      "text/plain": [
       "<Figure size 640x480 with 1 Axes>"
      ]
     },
     "metadata": {},
     "output_type": "display_data"
    }
   ],
   "source": [
    "plt.plot(loss_tracker)"
   ]
  },
  {
   "cell_type": "code",
   "execution_count": 41,
   "id": "1c19205e",
   "metadata": {},
   "outputs": [
    {
     "name": "stdout",
     "output_type": "stream",
     "text": [
      "Test Accuracy: 51.59%\n"
     ]
    }
   ],
   "source": [
    "\n",
    "# Evaluate the model on test data\n",
    "with torch.no_grad():\n",
    "    for i, (test_data, test_labels) in enumerate(test_loader):\n",
    "        outputs = model(test_data[0], test_data[1])\n",
    "        predicted = (outputs > 0.5).float()\n",
    "        accuracy = (predicted == test_labels).float().mean()\n",
    "        print('Test Accuracy: {:.2f}%'.format(accuracy * 100))\n"
   ]
  },
  {
   "cell_type": "code",
   "execution_count": null,
   "id": "4bb1a036-e14b-46d1-b52f-4486a3760444",
   "metadata": {
    "id": "KLiD8fb5QMHI"
   },
   "outputs": [
    {
     "ename": "NameError",
     "evalue": "name 'input_size' is not defined",
     "output_type": "error",
     "traceback": [
      "\u001b[1;31m---------------------------------------------------------------------------\u001b[0m",
      "\u001b[1;31mNameError\u001b[0m                                 Traceback (most recent call last)",
      "Cell \u001b[1;32mIn[38], line 1\u001b[0m\n\u001b[1;32m----> 1\u001b[0m model \u001b[39m=\u001b[39m Model()\n\u001b[0;32m      2\u001b[0m model\u001b[39m.\u001b[39mto(device)\n\u001b[0;32m      4\u001b[0m loss_fn \u001b[39m=\u001b[39m nn\u001b[39m.\u001b[39mCrossEntropyLoss(reduction\u001b[39m=\u001b[39m\u001b[39m'\u001b[39m\u001b[39msum\u001b[39m\u001b[39m'\u001b[39m)\n",
      "Cell \u001b[1;32mIn[35], line 4\u001b[0m, in \u001b[0;36mModel.__init__\u001b[1;34m(self)\u001b[0m\n\u001b[0;32m      2\u001b[0m \u001b[39mdef\u001b[39;00m \u001b[39m__init__\u001b[39m(\u001b[39mself\u001b[39m):\n\u001b[0;32m      3\u001b[0m     \u001b[39msuper\u001b[39m(Model, \u001b[39mself\u001b[39m)\u001b[39m.\u001b[39m\u001b[39m__init__\u001b[39m()\n\u001b[1;32m----> 4\u001b[0m     \u001b[39mself\u001b[39m\u001b[39m.\u001b[39mfc1 \u001b[39m=\u001b[39m nn\u001b[39m.\u001b[39mLinear(input_size, hidden_size)\n\u001b[0;32m      5\u001b[0m     \u001b[39mself\u001b[39m\u001b[39m.\u001b[39mrelu \u001b[39m=\u001b[39m nn\u001b[39m.\u001b[39mReLU()\n\u001b[0;32m      6\u001b[0m     \u001b[39mself\u001b[39m\u001b[39m.\u001b[39mfc2 \u001b[39m=\u001b[39m nn\u001b[39m.\u001b[39mLinear(hidden_size, num_classes)\n",
      "\u001b[1;31mNameError\u001b[0m: name 'input_size' is not defined"
     ]
    }
   ],
   "source": [
    "model = Model()\n",
    "model.to(device)\n",
    "\n",
    "loss_fn = nn.CrossEntropyLoss(reduction='sum')\n",
    "\n",
    "optimizer1 = optim.Adam(model.parameters())\n",
    "optimizer2 = optim.SGD(model.parameters(), lr=0.001)\n",
    "\n",
    "n_epochs = 3\n",
    "optimizer_cutoff = int(n_epochs*4/4.0)"
   ]
  },
  {
   "cell_type": "code",
   "execution_count": 34,
   "id": "45f977df-788c-4c19-aa5a-52c1a7d398ea",
   "metadata": {
    "id": "MFn5_3OvL4gl"
   },
   "outputs": [
    {
     "name": "stdout",
     "output_type": "stream",
     "text": [
      "Setup Time: 44827.66735339165\n"
     ]
    },
    {
     "ename": "NameError",
     "evalue": "name 'n_epochs' is not defined",
     "output_type": "error",
     "traceback": [
      "\u001b[1;31m---------------------------------------------------------------------------\u001b[0m",
      "\u001b[1;31mNameError\u001b[0m                                 Traceback (most recent call last)",
      "Cell \u001b[1;32mIn[34], line 5\u001b[0m\n\u001b[0;32m      2\u001b[0m \u001b[39mprint\u001b[39m(\u001b[39mf\u001b[39m\u001b[39m'\u001b[39m\u001b[39mSetup Time: \u001b[39m\u001b[39m{\u001b[39;00mtic\u001b[39m \u001b[39m\u001b[39m-\u001b[39m\u001b[39m \u001b[39mts\u001b[39m}\u001b[39;00m\u001b[39m'\u001b[39m)\n\u001b[0;32m      3\u001b[0m te \u001b[39m=\u001b[39m tic\n\u001b[1;32m----> 5\u001b[0m \u001b[39mfor\u001b[39;00m epoch \u001b[39min\u001b[39;00m \u001b[39mrange\u001b[39m(n_epochs):\n\u001b[0;32m      6\u001b[0m     train_loss \u001b[39m=\u001b[39m \u001b[39m0\u001b[39m\n\u001b[0;32m      7\u001b[0m     test_loss \u001b[39m=\u001b[39m \u001b[39m0\u001b[39m\n",
      "\u001b[1;31mNameError\u001b[0m: name 'n_epochs' is not defined"
     ]
    }
   ],
   "source": [
    "tic = time.time()\n",
    "print(f'Setup Time: {tic - ts}')\n",
    "te = tic\n",
    "\n",
    "for epoch in range(n_epochs):\n",
    "    train_loss = 0\n",
    "    test_loss = 0\n",
    "    if epoch < optimizer_cutoff:\n",
    "        optimizer = optimizer1\n",
    "    else:\n",
    "        optimizer = optimizer2\n",
    "    for ex in train_loader:\n",
    "        inputs, labs = ex\n",
    "        inputs = inputs.to(device)\n",
    "        labs = labs.to(device)\n",
    "        \n",
    "        optimizer.zero_grad()\n",
    "\n",
    "        outputs = model(inputs).to(device)\n",
    "        loss = loss_fn(outputs, labs)\n",
    "        train_loss += loss / train_test[0].shape[0]\n",
    "        loss.backward()\n",
    "        optimizer.step()\n",
    "\n",
    "    acc = 0\n",
    "    with torch.no_grad():\n",
    "        for ex in test_loader:\n",
    "            inputs, labs = ex\n",
    "            inputs = inputs.to(device)\n",
    "            labs = labs.to(device)\n",
    "            outputs = model(inputs).to(device)\n",
    "            test_loss += loss_fn(outputs, labs) / train_test[1].shape[0]\n",
    "            ps, preds = torch.max(outputs)\n",
    "            acc += sum(preds == labs) / train_test[1].shape[0]\n",
    "    print(f'Epoch {epoch+1} Accuracy: {acc*100},\\tTrain Loss: {train_loss},', end='')\n",
    "    print(f'\\tTest Loss: {test_loss},\\tRuntime: {time.time()-te}')\n",
    "    te = time.time()\n",
    "    \n",
    "toc = time.time()\n",
    "print(f'Training Runtime: {toc-tic}s')"
   ]
  },
  {
   "cell_type": "code",
   "execution_count": null,
   "id": "9ebe9286-996b-4b80-bc49-97642d29d8c8",
   "metadata": {},
   "outputs": [],
   "source": []
  }
 ],
 "metadata": {
  "kernelspec": {
   "display_name": "Python 3 (ipykernel)",
   "language": "python",
   "name": "python3"
  },
  "language_info": {
   "codemirror_mode": {
    "name": "ipython",
    "version": 3
   },
   "file_extension": ".py",
   "mimetype": "text/x-python",
   "name": "python",
   "nbconvert_exporter": "python",
   "pygments_lexer": "ipython3",
   "version": "3.10.11"
  }
 },
 "nbformat": 4,
 "nbformat_minor": 5
}
